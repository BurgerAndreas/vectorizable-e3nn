{
 "cells": [
  {
   "cell_type": "code",
   "execution_count": null,
   "metadata": {
    "collapsed": true
   },
   "outputs": [],
   "source": [
    "import numpy as np\n",
    "import matplotlib.pyplot as plt\n",
    "%matplotlib inline"
   ]
  },
  {
   "cell_type": "code",
   "execution_count": null,
   "metadata": {
    "collapsed": true
   },
   "outputs": [],
   "source": [
    "from se3_cnn import basis_kernels\n",
    "from se3_cnn import SO3\n",
    "from se3_cnn import SE3"
   ]
  },
  {
   "cell_type": "code",
   "execution_count": null,
   "metadata": {
    "collapsed": true
   },
   "outputs": [],
   "source": [
    "def plot_kernel(basis, base_element=0, zheight=0):\n",
    "    size = basis.shape[-1]\n",
    "    dim_out = basis.shape[1]\n",
    "    dim_in = basis.shape[2]\n",
    "    \n",
    "    vmin = basis.mean() - 2 * basis.std()\n",
    "    vmax = basis.mean() + 2 * basis.std()\n",
    "\n",
    "    plt.figure(figsize=(3*dim_in, 3*dim_out))\n",
    "    for i in range(dim_out):\n",
    "        for j in range(dim_in):\n",
    "            plt.subplot(dim_out, dim_in, dim_in * i + j + 1)\n",
    "            plt.imshow(basis[base_element, i, j, size//2 + round(size / 2 * zheight), :, :], vmin=vmin, vmax=vmax)\n",
    "            plt.axis(\"off\")\n",
    "    plt.tight_layout()"
   ]
  },
  {
   "cell_type": "code",
   "execution_count": null,
   "metadata": {},
   "outputs": [],
   "source": [
    "size = 7\n",
    "radial_amount = 1\n",
    "upsampling = 15\n",
    "\n",
    "R_in = SO3.repr3\n",
    "R_out = SO3.repr3\n",
    "\n",
    "basis = basis_kernels.cube_basis_kernels_subsampled_hat(size, radial_amount, upsampling, R_out, R_in)\n",
    "basis = basis_kernels.orthonormalize(basis)"
   ]
  },
  {
   "cell_type": "code",
   "execution_count": null,
   "metadata": {
    "scrolled": false
   },
   "outputs": [],
   "source": [
    "for i in range(basis.shape[0]):\n",
    "    plot_kernel(basis, base_element=i)"
   ]
  },
  {
   "cell_type": "code",
   "execution_count": null,
   "metadata": {
    "collapsed": true
   },
   "outputs": [],
   "source": [
    "import ipyvolume as ipv"
   ]
  },
  {
   "cell_type": "code",
   "execution_count": null,
   "metadata": {},
   "outputs": [],
   "source": [
    "dl = 0.14\n",
    "ipv.quickvolshow(basis[2, 1, 1], level=[0.5 - dl, 0.5 + dl], level_width=0.09, opacity=0.02, data_min=-0.5, data_max=0.5)"
   ]
  },
  {
   "cell_type": "code",
   "execution_count": null,
   "metadata": {
    "collapsed": true
   },
   "outputs": [],
   "source": []
  }
 ],
 "metadata": {
  "kernelspec": {
   "display_name": "Python 3",
   "language": "python",
   "name": "python3"
  },
  "language_info": {
   "codemirror_mode": {
    "name": "ipython",
    "version": 3
   },
   "file_extension": ".py",
   "mimetype": "text/x-python",
   "name": "python",
   "nbconvert_exporter": "python",
   "pygments_lexer": "ipython3",
   "version": "3.6.1"
  }
 },
 "nbformat": 4,
 "nbformat_minor": 2
}
