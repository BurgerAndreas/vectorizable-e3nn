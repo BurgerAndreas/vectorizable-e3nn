{
 "cells": [
  {
   "cell_type": "code",
   "execution_count": 12,
   "metadata": {
    "collapsed": true
   },
   "outputs": [],
   "source": [
    "import numpy as np\n",
    "import matplotlib.pyplot as plt\n",
    "%matplotlib inline"
   ]
  },
  {
   "cell_type": "code",
   "execution_count": 2,
   "metadata": {
    "collapsed": true
   },
   "outputs": [],
   "source": [
    "import basis_kernels"
   ]
  },
  {
   "cell_type": "code",
   "execution_count": 5,
   "metadata": {
    "collapsed": true
   },
   "outputs": [],
   "source": [
    "def generate_and_subsample(M):\n",
    "    size = 5\n",
    "    def radial(r):\n",
    "        return 1\n",
    "    \n",
    "    basis = basis_kernels.cube_basis_kernels(size * M, radial, \n",
    "                                             basis_kernels.vector_repr, \n",
    "                                             basis_kernels.vector_repr)\n",
    "    return basis_kernels.gaussian_subsampling(basis, (1, 1, 1, M, M, M))"
   ]
  },
  {
   "cell_type": "code",
   "execution_count": 20,
   "metadata": {
    "collapsed": true
   },
   "outputs": [],
   "source": [
    "hires = generate_and_subsample(31)"
   ]
  },
  {
   "cell_type": "code",
   "execution_count": 23,
   "metadata": {
    "collapsed": true
   },
   "outputs": [],
   "source": [
    "Ms = range(1, 21, 2)\n",
    "error = []\n",
    "\n",
    "for M in Ms:\n",
    "    basis = generate_and_subsample(M)\n",
    "    error.append(np.linalg.norm(basis - hires) / np.linalg.norm(hires))"
   ]
  },
  {
   "cell_type": "code",
   "execution_count": 28,
   "metadata": {
    "collapsed": false
   },
   "outputs": [
    {
     "data": {
      "image/png": "[encoded data removed]",
      "text/plain": [
       "<matplotlib.figure.Figure at 0x7fb68eb8e7f0>"
      ]
     },
     "metadata": {},
     "output_type": "display_data"
    }
   ],
   "source": [
    "plt.semilogy(Ms, error, 'k.')\n",
    "plt.ylabel(\"$|| K(M) - K(15) || / ||K(31)||$\")\n",
    "plt.xlabel(\"subsampling factor $M$\")\n",
    "plt.xticks(Ms);"
   ]
  },
  {
   "cell_type": "code",
   "execution_count": null,
   "metadata": {
    "collapsed": true
   },
   "outputs": [],
   "source": []
  }
 ],
 "metadata": {
  "kernelspec": {
   "display_name": "Python 3",
   "language": "python",
   "name": "python3"
  },
  "language_info": {
   "codemirror_mode": {
    "name": "ipython",
    "version": 3
   },
   "file_extension": ".py",
   "mimetype": "text/x-python",
   "name": "python",
   "nbconvert_exporter": "python",
   "pygments_lexer": "ipython3",
   "version": "3.5.3"
  }
 },
 "nbformat": 4,
 "nbformat_minor": 2
}
